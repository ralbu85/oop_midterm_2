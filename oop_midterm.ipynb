{
 "cells": [
  {
   "cell_type": "markdown",
   "metadata": {
    "deletable": false,
    "editable": false,
    "nbgrader": {
     "checksum": "815c49f856c6e8bd06300fb8106afafb",
     "grade": false,
     "grade_id": "cell-3fa5ec1f9f558a82",
     "locked": true,
     "schema_version": 1,
     "solution": false
    }
   },
   "source": [
    "### 1. 주어진 입력값 n에 대하여 n의 팩토리얼을 구하여 출력하는 프로그램을 작성하시오.\n",
    "* 예시:\n",
    "```python\n",
    ">>> problem_1(5)\n",
    ">>> 120\n",
    "```"
   ]
  },
  {
   "cell_type": "code",
   "execution_count": null,
   "metadata": {
    "deletable": false,
    "nbgrader": {
     "checksum": "c3e9dc94a6e7a74226e065865d5034d5",
     "grade": false,
     "grade_id": "cell-44a9f6f7804513f4",
     "locked": false,
     "schema_version": 1,
     "solution": true
    }
   },
   "outputs": [],
   "source": [
    "# Your code here 아래부터 작성! 주석 지우지 말것!\n",
    "# Raise Notimplemented() 지우고 작성할것!\n",
    "def problem_1(my_number):\n",
    "    # YOUR CODE HERE\n",
    "    raise NotImplementedError()\n",
    "    return result"
   ]
  },
  {
   "cell_type": "code",
   "execution_count": null,
   "metadata": {
    "deletable": false,
    "editable": false,
    "nbgrader": {
     "checksum": "4d41ec75448e626421b198513d5e9c4b",
     "grade": true,
     "grade_id": "cell-cfe552182b7bd0a5",
     "locked": true,
     "points": 3,
     "schema_version": 1,
     "solution": false
    }
   },
   "outputs": [],
   "source": [
    "### 테스트 셀 (해당 셀을 지우지 마시오. 지우면 0점 처리됨)\n",
    "### 반드시 해당 셀도 실행해야 점수가 반영됨"
   ]
  },
  {
   "cell_type": "markdown",
   "metadata": {
    "deletable": false,
    "editable": false,
    "nbgrader": {
     "checksum": "5b61d4fc6bdaef124b0405e1d52715f6",
     "grade": false,
     "grade_id": "cell-1a7d2c8f1e8e89bb",
     "locked": true,
     "schema_version": 1,
     "solution": false
    }
   },
   "source": [
    "### 2. 주어진 리스트에서 원하는 값이 있다면 그 값의 위치를 반환하는 프로그램을 구하시오. 만약 해당 값이 없다면 -1을 반환하시오.\n",
    "* 예시\n",
    "\n",
    "```python\n",
    ">>> problem_2([1,3,5],3)\n",
    ">>> 1\n",
    "```\n"
   ]
  },
  {
   "cell_type": "code",
   "execution_count": null,
   "metadata": {
    "deletable": false,
    "nbgrader": {
     "checksum": "32a4f49b679d6ec6ff254529d20054a7",
     "grade": false,
     "grade_id": "cell-9119a900b5ca89a8",
     "locked": false,
     "schema_version": 1,
     "solution": true
    }
   },
   "outputs": [],
   "source": [
    "# Your code here 아래부터 작성! 주석 지우지 말것!\n",
    "# Raise Notimplemented() 지우고 작성할것!\n",
    "def problem_2(my_list, number):\n",
    "    n=len(my_list) #hint: n은 my_list에 저장된 숫자의 총 갯수이다.    \n",
    "    result=-1\n",
    "    # YOUR CODE HERE\n",
    "    raise NotImplementedError()\n",
    "    return result   "
   ]
  },
  {
   "cell_type": "code",
   "execution_count": null,
   "metadata": {
    "deletable": false,
    "editable": false,
    "nbgrader": {
     "checksum": "5fa74e3dcc06624da9b25fc1fdb532d2",
     "grade": true,
     "grade_id": "cell-3686d758ab7629ab",
     "locked": true,
     "points": 3,
     "schema_version": 1,
     "solution": false
    }
   },
   "outputs": [],
   "source": [
    "### 테스트 셀 (해당 셀을 지우지 마시오. 지우면 0점 처리됨)\n",
    "### 반드시 해당 셀도 실행해야 점수가 반영됨"
   ]
  },
  {
   "cell_type": "markdown",
   "metadata": {
    "deletable": false,
    "editable": false,
    "nbgrader": {
     "checksum": "c0aaadc8d7a55eb6df6a588c779e077d",
     "grade": false,
     "grade_id": "cell-ec932bf9e65581dc",
     "locked": true,
     "schema_version": 1,
     "solution": false
    }
   },
   "source": [
    "### 3. 주어진 리스트에서 최소값을 구하는 프로그램을 작성하시오.\n",
    "* 예시\n",
    "```python\n",
    ">>> problem_3([-1,3,5])\n",
    ">>> -1\n",
    "```"
   ]
  },
  {
   "cell_type": "code",
   "execution_count": null,
   "metadata": {
    "deletable": false,
    "nbgrader": {
     "checksum": "797166f04e977b938ec210dfdaa9feed",
     "grade": false,
     "grade_id": "cell-d1bb8daac2c34525",
     "locked": false,
     "schema_version": 1,
     "solution": true
    }
   },
   "outputs": [],
   "source": [
    "# Your code here 아래부터 작성! 주석 지우지 말것!\n",
    "# Raise Notimplemented() 지우고 작성할것!\n",
    "def problem_3(my_list):\n",
    "    result=my_list[0]\n",
    "    # YOUR CODE HERE\n",
    "    raise NotImplementedError()\n",
    "    return result"
   ]
  },
  {
   "cell_type": "code",
   "execution_count": null,
   "metadata": {
    "deletable": false,
    "editable": false,
    "nbgrader": {
     "checksum": "5acbf05da25afcd18ebe71f5a9a564b2",
     "grade": true,
     "grade_id": "cell-2d5ccb5fc0efb02c",
     "locked": true,
     "points": 3,
     "schema_version": 1,
     "solution": false
    }
   },
   "outputs": [],
   "source": [
    "### 테스트 셀 (해당 셀을 지우지 마시오. 지우면 0점 처리됨)\n",
    "### 반드시 해당 셀도 실행해야 점수가 반영됨"
   ]
  },
  {
   "cell_type": "markdown",
   "metadata": {
    "deletable": false,
    "editable": false,
    "nbgrader": {
     "checksum": "63e855536c7bc662b87c471ff0fa0a17",
     "grade": false,
     "grade_id": "cell-8e32dfe2bf53abe9",
     "locked": true,
     "schema_version": 1,
     "solution": false
    }
   },
   "source": [
    "### 4. 위에서 작성한 함수 problem_3을 사용하여, 주어진 리스트를 오름차순으로 정렬하는 프로그램을 작성하시오. (주의: 사용하지 않았을 경우 오답임.)\n",
    "* 예시\n",
    "```python\n",
    ">>> problem_4([5,1,3])\n",
    ">>> [1,3,5]\n",
    "```\n",
    "* hint1: 리스트의 remove 메소드를 사용한다.\n",
    "```python\n",
    ">>> my_list=[1,3,5,7,9]\n",
    ">>> my_list.remove(3)\n",
    ">>> my_list\n",
    ">>> [1,5,7,9]\n",
    "```\n",
    "* hint2: 리스트의 append 메소드를 사용한다.\n",
    "```python\n",
    ">>> result=[1,2]\n",
    ">>> result.append(3)\n",
    ">>> result\n",
    ">>> [1,2,3]\n",
    "```\n"
   ]
  },
  {
   "cell_type": "code",
   "execution_count": null,
   "metadata": {
    "deletable": false,
    "nbgrader": {
     "checksum": "ba9e24a842e845c06bb4b3eb30427849",
     "grade": false,
     "grade_id": "cell-d91c7cf83cb7e567",
     "locked": false,
     "schema_version": 1,
     "solution": true
    }
   },
   "outputs": [],
   "source": [
    "# Your code here 아래부터 작성! 주석 지우지 말것!\n",
    "# Raise Notimplemented() 지우고 작성할것!\n",
    "\n",
    "def problem_4(my_list):    \n",
    "    result=[]\n",
    "    # YOUR CODE HERE\n",
    "    raise NotImplementedError()\n",
    "    return result"
   ]
  },
  {
   "cell_type": "code",
   "execution_count": null,
   "metadata": {
    "deletable": false,
    "editable": false,
    "nbgrader": {
     "checksum": "01cf4f2561030a811b67a7289cc474b1",
     "grade": true,
     "grade_id": "cell-4fbc9c1866368a61",
     "locked": true,
     "points": 5,
     "schema_version": 1,
     "solution": false
    }
   },
   "outputs": [],
   "source": [
    "### 테스트 셀 (해당 셀을 지우지 마시오. 지우면 0점 처리됨)\n",
    "### 반드시 해당 셀도 실행해야 점수가 반영됨"
   ]
  },
  {
   "cell_type": "markdown",
   "metadata": {
    "deletable": false,
    "editable": false,
    "nbgrader": {
     "checksum": "901cb464d6bfc400414c903d354bb0d7",
     "grade": false,
     "grade_id": "cell-d3be15e23d3fadfe",
     "locked": true,
     "schema_version": 1,
     "solution": false
    }
   },
   "source": [
    "### 5. 주어진 입력값 n에 대해서 1부터 n까지 2의 배수 이거나 3의 배수인 수를 모두 더하여 출력하는 프로그램을 구하시오."
   ]
  },
  {
   "cell_type": "code",
   "execution_count": null,
   "metadata": {
    "deletable": false,
    "nbgrader": {
     "checksum": "1feeed9cf4c93a4f8007e19e5e63d0a3",
     "grade": false,
     "grade_id": "cell-3c6914c99ec07645",
     "locked": false,
     "schema_version": 1,
     "solution": true
    }
   },
   "outputs": [],
   "source": [
    "# Your code here 아래부터 작성! 주석 지우지 말것!\n",
    "# Raise Notimplemented() 지우고 작성할것!\n",
    "\n",
    "def problem_5(n):\n",
    "    # YOUR CODE HERE\n",
    "    raise NotImplementedError()\n",
    "    return result"
   ]
  },
  {
   "cell_type": "code",
   "execution_count": null,
   "metadata": {
    "deletable": false,
    "editable": false,
    "nbgrader": {
     "checksum": "fe5d66e91bf4c2aeb860952709752473",
     "grade": true,
     "grade_id": "cell-a4bdd602400350ee",
     "locked": true,
     "points": 3,
     "schema_version": 1,
     "solution": false
    }
   },
   "outputs": [],
   "source": [
    "### 테스트 셀 (해당 셀을 지우지 마시오. 지우면 0점 처리됨)\n",
    "### 반드시 해당 셀도 실행해야 점수가 반영됨"
   ]
  },
  {
   "cell_type": "markdown",
   "metadata": {
    "deletable": false,
    "editable": false,
    "nbgrader": {
     "checksum": "fde096d7f3f46327dad969cc54ddbe60",
     "grade": false,
     "grade_id": "cell-6d99f98d7c536687",
     "locked": true,
     "schema_version": 1,
     "solution": false
    }
   },
   "source": [
    "### 6. 여러개의 문자열로 구성되어 있는 리스트가 있다. 이 리스트에서 짝수개의 문자를 가진 문자열의 갯수를 구하는 프로그램을 작성하시오. \n",
    "* 예시\n",
    "```python\n",
    ">>> x=['abc', 'xy', 'xyzw', '1231234']\n",
    ">>> problem_6(x)\n",
    ">>> 2\n",
    "```\n",
    "* 힌트\n",
    "```python\n",
    ">>> len('abc')\n",
    ">>> 3\n",
    "```"
   ]
  },
  {
   "cell_type": "code",
   "execution_count": null,
   "metadata": {
    "deletable": false,
    "nbgrader": {
     "checksum": "0acfc96bdba8ff48d2c1ba0e694208fb",
     "grade": false,
     "grade_id": "cell-05e8fa46c8d16a48",
     "locked": false,
     "schema_version": 1,
     "solution": true
    }
   },
   "outputs": [],
   "source": [
    "# Your code here 아래부터 작성! 주석 지우지 말것!\n",
    "# Raise Notimplemented() 지우고 작성할것!\n",
    "\n",
    "def problem_6(my_list):\n",
    "    # YOUR CODE HERE\n",
    "    raise NotImplementedError()\n",
    "    return count"
   ]
  },
  {
   "cell_type": "code",
   "execution_count": null,
   "metadata": {
    "deletable": false,
    "editable": false,
    "nbgrader": {
     "checksum": "e4ab7edc8c2597e9f270a8274a3327db",
     "grade": true,
     "grade_id": "cell-a2967f4062350808",
     "locked": true,
     "points": 3,
     "schema_version": 1,
     "solution": false
    }
   },
   "outputs": [],
   "source": [
    "### 테스트 셀 (해당 셀을 지우지 마시오. 지우면 0점 처리됨)\n",
    "### 반드시 해당 셀도 실행해야 점수가 반영됨"
   ]
  },
  {
   "cell_type": "markdown",
   "metadata": {
    "deletable": false,
    "editable": false,
    "nbgrader": {
     "checksum": "b801820b6f8ac09bbfe8b764dc76cf69",
     "grade": false,
     "grade_id": "cell-59b4c942f775b4db",
     "locked": true,
     "schema_version": 1,
     "solution": false
    }
   },
   "source": [
    "### 7. 주어진 두개의 리스트가 있다. 두 리스트에서 하나씩 값을 골라 생성된 모든 조합을 2차원 리스트로 출력해보시오.\n",
    "* 예시:<br>\n",
    "```python\n",
    ">>> problem_7([1,3],[2,4])\n",
    ">>> ([1,2],[1,4],[3,2],[3,4])\n",
    "```"
   ]
  },
  {
   "cell_type": "code",
   "execution_count": null,
   "metadata": {
    "deletable": false,
    "nbgrader": {
     "checksum": "97a2c613c1ec4bd837602c55f6886edc",
     "grade": false,
     "grade_id": "cell-ad196f590472cf8a",
     "locked": false,
     "schema_version": 1,
     "solution": true
    }
   },
   "outputs": [],
   "source": [
    "# Your code here 아래부터 작성! 주석 지우지 말것!\n",
    "# Raise Notimplemented() 지우고 작성할것!\n",
    "def problem_7(list_1,list_2):\n",
    "    result=[]\n",
    "    # YOUR CODE HERE\n",
    "    raise NotImplementedError()\n",
    "    return result"
   ]
  },
  {
   "cell_type": "code",
   "execution_count": null,
   "metadata": {
    "deletable": false,
    "editable": false,
    "nbgrader": {
     "checksum": "468981be9d58cba7446d91e7bf440a24",
     "grade": true,
     "grade_id": "cell-9e2ac967b8589776",
     "locked": true,
     "points": 3,
     "schema_version": 1,
     "solution": false
    }
   },
   "outputs": [],
   "source": [
    "### 테스트 셀 (해당 셀을 지우지 마시오. 지우면 0점 처리됨)\n",
    "### 반드시 해당 셀도 실행해야 점수가 반영됨"
   ]
  },
  {
   "cell_type": "markdown",
   "metadata": {
    "deletable": false,
    "editable": false,
    "nbgrader": {
     "checksum": "5492367bcd03065492108367eda92dbc",
     "grade": false,
     "grade_id": "cell-3d20589516da65a3",
     "locked": true,
     "schema_version": 1,
     "solution": false
    }
   },
   "source": [
    "### 8. 주어진 문자열이 회문인지 검토하여 참이면 True 아니면 False를 반환하는 프로그램을 설계하시오. 회문이란 좌우대칭인 글자를 말한다. (ex. 토마토, qwewq)"
   ]
  },
  {
   "cell_type": "code",
   "execution_count": null,
   "metadata": {
    "deletable": false,
    "nbgrader": {
     "checksum": "0847a2eed4e01fa3b2005a70b25bf9c6",
     "grade": false,
     "grade_id": "cell-89e81b916a1fb514",
     "locked": false,
     "schema_version": 1,
     "solution": true
    }
   },
   "outputs": [],
   "source": [
    "# Your code here 아래부터 작성! 주석 지우지 말것!\n",
    "# Raise Notimplemented() 지우고 작성할것!\n",
    "def problem_8(my_string):\n",
    "    n=len(my_string) #힌트: 입력한 문자열의 갯수는 n이다.\n",
    "    result=False\n",
    "    # YOUR CODE HERE\n",
    "    raise NotImplementedError()\n",
    "    return result   "
   ]
  },
  {
   "cell_type": "code",
   "execution_count": null,
   "metadata": {
    "deletable": false,
    "editable": false,
    "nbgrader": {
     "checksum": "21868a37b20d684f06e38a7b11be0008",
     "grade": true,
     "grade_id": "cell-6b72452bf9121d21",
     "locked": true,
     "points": 5,
     "schema_version": 1,
     "solution": false
    }
   },
   "outputs": [],
   "source": [
    "### 테스트 셀 (해당 셀을 지우지 마시오. 지우면 0점 처리됨)\n",
    "### 반드시 해당 셀도 실행해야 점수가 반영됨"
   ]
  },
  {
   "cell_type": "markdown",
   "metadata": {
    "deletable": false,
    "editable": false,
    "nbgrader": {
     "checksum": "da85fce696f03a74853d4e1903e5321c",
     "grade": false,
     "grade_id": "cell-893541d4f9c42626",
     "locked": true,
     "schema_version": 1,
     "solution": false
    }
   },
   "source": [
    "### 9. 주어진 두 리스트를 숫자 벡터로 간주하고, 두 벡터의 차이의 제곱합을 구하는 프로그램을 구하시오. 구체적 공식은 다음과 같다.\n",
    "$$X=\\{x_{1},x_{2},...,x_{n}\\}$$\n",
    "$$Y=\\{y_{1},y_{2},...,y_{n}\\}$$\n",
    "$$dist(X,Y)=\\sum_{i=1}^n {(x_{i}-y_{i})^2}$$\n"
   ]
  },
  {
   "cell_type": "code",
   "execution_count": null,
   "metadata": {
    "deletable": false,
    "nbgrader": {
     "checksum": "81e0a52958017d63526016221b644425",
     "grade": false,
     "grade_id": "cell-01ec7d1e17da2531",
     "locked": false,
     "schema_version": 1,
     "solution": true
    }
   },
   "outputs": [],
   "source": [
    "# Your code here 아래부터 작성! 주석 지우지 말것!\n",
    "# Raise Notimplemented() 지우고 작성할것!\n",
    "def problem_9(list_x,list_y):\n",
    "    # YOUR CODE HERE\n",
    "    raise NotImplementedError()\n",
    "    return result"
   ]
  },
  {
   "cell_type": "code",
   "execution_count": null,
   "metadata": {
    "deletable": false,
    "editable": false,
    "nbgrader": {
     "checksum": "3f39997d96cb3e10d0fd2f0b54521ea9",
     "grade": true,
     "grade_id": "cell-76783a640e9a11b2",
     "locked": true,
     "points": 3,
     "schema_version": 1,
     "solution": false
    }
   },
   "outputs": [],
   "source": [
    "### 테스트 셀 (해당 셀을 지우지 마시오. 지우면 0점 처리됨)\n",
    "### 반드시 해당 셀도 실행해야 점수가 반영됨"
   ]
  }
 ],
 "metadata": {
  "kernelspec": {
   "display_name": "Python 3",
   "language": "python",
   "name": "python3"
  },
  "language_info": {
   "codemirror_mode": {
    "name": "ipython",
    "version": 3
   },
   "file_extension": ".py",
   "mimetype": "text/x-python",
   "name": "python",
   "nbconvert_exporter": "python",
   "pygments_lexer": "ipython3",
   "version": "3.6.7"
  }
 },
 "nbformat": 4,
 "nbformat_minor": 2
}
